{
 "cells": [
  {
   "cell_type": "markdown",
   "id": "7535cf74",
   "metadata": {},
   "source": [
    "# Data Science Tools and Ecosystem"
   ]
  },
  {
   "cell_type": "markdown",
   "id": "5e42ff41",
   "metadata": {},
   "source": [
    "## In this notebook, Data Science Tools and Ecosystem are summarized."
   ]
  },
  {
   "cell_type": "markdown",
   "id": "3fe930f4",
   "metadata": {},
   "source": [
    "**Objectives:** \n",
    "+ Languages in Data Science\n",
    "+ Libraries in Data Science\n",
    "+ Arithmetic expressions in python\n",
    "+ Commenting in python \n",
    "+ Conversions using arithmetic expressions in python"
   ]
  },
  {
   "cell_type": "markdown",
   "id": "97842039",
   "metadata": {},
   "source": [
    "### Some of the popular languages that Data Scientists use are:\n",
    "    1. Python\n",
    "    2. R\n",
    "    3. Julia"
   ]
  },
  {
   "cell_type": "markdown",
   "id": "7de07d63",
   "metadata": {},
   "source": [
    "### Some of the commonly used libraries used by Data Scientists include:\n",
    "    1. Matplotlib\n",
    "    2. ggplot\n",
    "    3. Pandas\n",
    "    4. Sci-kit learn"
   ]
  },
  {
   "cell_type": "markdown",
   "id": "62cc172c",
   "metadata": {},
   "source": [
    "|  Data Science Tools  |\n",
    "|--------------------- |\n",
    "| Jupyter Notebook     |\n",
    "| RStudio              |\n",
    "| Github               |\n",
    "| Apche Spark          |"
   ]
  },
  {
   "cell_type": "markdown",
   "id": "111a8b15",
   "metadata": {},
   "source": [
    "### Below are a few examples of evaluating arithmetic expressions in Python"
   ]
  },
  {
   "cell_type": "code",
   "execution_count": 1,
   "id": "98d765eb",
   "metadata": {},
   "outputs": [
    {
     "data": {
      "text/plain": [
       "17"
      ]
     },
     "execution_count": 1,
     "metadata": {},
     "output_type": "execute_result"
    }
   ],
   "source": [
    "# arithmetic expression applying multiplication and addition on integers\n",
    "(3*4)+5\n"
   ]
  },
  {
   "cell_type": "code",
   "execution_count": 5,
   "id": "1f9433cf",
   "metadata": {},
   "outputs": [
    {
     "name": "stdout",
     "output_type": "stream",
     "text": [
      "Minutes to Hours: 3\n"
     ]
    }
   ],
   "source": [
    "# This will convert 200 minutes to hours by diving by 60\n",
    "Min=200\n",
    "Hours=Min/60\n",
    "print(\"Minutes to Hours:\",round(Hours))"
   ]
  },
  {
   "cell_type": "markdown",
   "id": "950bcaea",
   "metadata": {},
   "source": [
    "## Author\n",
    "Navya Sree Gavini"
   ]
  },
  {
   "cell_type": "code",
   "execution_count": null,
   "id": "ad23ad92",
   "metadata": {},
   "outputs": [],
   "source": []
  }
 ],
 "metadata": {
  "kernelspec": {
   "display_name": "Python 3 (ipykernel)",
   "language": "python",
   "name": "python3"
  },
  "language_info": {
   "codemirror_mode": {
    "name": "ipython",
    "version": 3
   },
   "file_extension": ".py",
   "mimetype": "text/x-python",
   "name": "python",
   "nbconvert_exporter": "python",
   "pygments_lexer": "ipython3",
   "version": "3.9.12"
  }
 },
 "nbformat": 4,
 "nbformat_minor": 5
}
